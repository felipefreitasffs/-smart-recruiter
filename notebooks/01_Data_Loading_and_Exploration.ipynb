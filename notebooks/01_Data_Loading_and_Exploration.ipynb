{
 "cells": [
  {
   "cell_type": "code",
   "execution_count": null,
   "id": "e0a03ef7",
   "metadata": {
    "vscode": {
     "languageId": "plaintext"
    }
   },
   "outputs": [],
   "source": [
    "# Importa a biblioteca pandas para manipulação de dados\n",
    "import pandas as pd\n",
    "# Importa a biblioteca json para carregar arquivos JSON complexos\n",
    "import json\n",
    "# Importa a biblioteca os para manipulação de caminhos\n",
    "import os\n",
    "\n",
    "print(\"Bibliotecas importadas.\")"
   ]
  },
  {
   "cell_type": "markdown",
   "id": "ecdaab42",
   "metadata": {},
   "source": [
    "# Definição dos Nomes dos Arquivos"
   ]
  },
  {
   "cell_type": "code",
   "execution_count": null,
   "id": "29d062b1",
   "metadata": {
    "vscode": {
     "languageId": "plaintext"
    }
   },
   "outputs": [],
   "source": [
    "jobs_filename = 'vagas.json'\n",
    "applicants_filename = 'applicants.json'\n",
    "prospects_relationship_filename = 'prospects.json' # Este é o arquivo de relacionamento\n",
    "\n",
    "print(f\"Arquivo de Vagas (Jobs):                 {jobs_filename}\")\n",
    "print(f\"Arquivo de Candidatos (Applicants):      {applicants_filename}\")\n",
    "print(f\"Arquivo de Relacionamento (Prospects):   {prospects_relationship_filename}\")"
   ]
  }
 ],
 "metadata": {
  "language_info": {
   "name": "python"
  }
 },
 "nbformat": 4,
 "nbformat_minor": 5
}
